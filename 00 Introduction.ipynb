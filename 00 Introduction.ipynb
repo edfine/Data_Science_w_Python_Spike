{
 "cells": [
  {
   "cell_type": "markdown",
   "id": "d2e968be",
   "metadata": {},
   "source": [
    "## Ed Fine  \n",
    "## edward.fine@afinepoint.net\n",
    "## 650-400-3437\n",
    "## Class time: 9:00 - 5:00 Pacific\n",
    "## Lunch: 12:00-1:00 time zone will be determined by the class"
   ]
  },
  {
   "cell_type": "markdown",
   "id": "c2e31421",
   "metadata": {},
   "source": [
    "# Data Science with Python\n",
    "\n",
    "A 1-Day Learning Spike on the Tools of Data Science\n",
    "\n",
    "## Topics\n",
    "1. Python Fundamentals\n",
    "2. Data Science Overview\n",
    "3. NumPy and Scipy\n",
    "4. Statistical Analysis and Business \n",
    "5. Applications\n",
    "6. Data Manipulation with Pandas\n",
    "7. ML and NLP with Scikit–Learn\n",
    "8. Data Visualization\n",
    "9. Python Integration with Hadoop, MapReduce and Spark\n"
   ]
  },
  {
   "cell_type": "code",
   "execution_count": null,
   "id": "90fd5953-2782-467b-b6f7-2699086722a1",
   "metadata": {},
   "outputs": [],
   "source": []
  }
 ],
 "metadata": {
  "kernelspec": {
   "display_name": "Python 3",
   "language": "python",
   "name": "python3"
  },
  "language_info": {
   "codemirror_mode": {
    "name": "ipython",
    "version": 3
   },
   "file_extension": ".py",
   "mimetype": "text/x-python",
   "name": "python",
   "nbconvert_exporter": "python",
   "pygments_lexer": "ipython3",
   "version": "3.8.8"
  }
 },
 "nbformat": 4,
 "nbformat_minor": 5
}
